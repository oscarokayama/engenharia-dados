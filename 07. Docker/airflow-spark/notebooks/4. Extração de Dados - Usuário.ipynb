{
 "cells": [
  {
   "cell_type": "markdown",
   "id": "56bc2e94",
   "metadata": {},
   "source": [
    "## 4. Extração de Dados - Usuário"
   ]
  },
  {
   "cell_type": "markdown",
   "id": "196f7589",
   "metadata": {},
   "source": [
    "O objetivo deste documento, é facilitar a extração dos dados pelo usuário"
   ]
  },
  {
   "cell_type": "markdown",
   "id": "3b206a62",
   "metadata": {},
   "source": [
    "**Importação de bibliotecas**"
   ]
  },
  {
   "cell_type": "code",
   "execution_count": 1,
   "id": "5a49bf68",
   "metadata": {},
   "outputs": [],
   "source": [
    "import os\n",
    "import shutil\n",
    "from pyspark.sql import SparkSession\n",
    "from pyspark.sql.functions import from_unixtime, col, to_timestamp, coalesce\n",
    "from pyspark.sql.types import StringType, IntegerType, LongType, DecimalType, DateType"
   ]
  },
  {
   "cell_type": "markdown",
   "id": "f58c1ee0",
   "metadata": {},
   "source": [
    "**Variaveis do projeto**"
   ]
  },
  {
   "cell_type": "code",
   "execution_count": 2,
   "id": "5eb4fa0d",
   "metadata": {},
   "outputs": [],
   "source": [
    "#Diretorio dos arquivos csv\n",
    "v_diretorio_csv='/usr/local/spark/csv/'\n",
    "\n",
    "#Diretorio de export do arquivo de flatfile\n",
    "v_diretorio_export='/home/jovyan/work/export'\n",
    "\n",
    "#Nome do arquivo do export\n",
    "v_nome_arquivo='movimento_flat.csv'\n",
    "\n",
    "#Variaveis de conexao com postgres\n",
    "v_caminho_jar_postgres='/home/jovyan/work/jars/postgresql-9.4.1207.jar'\n",
    "v_url_jdbc='jdbc:postgresql://postgres/airflow'\n",
    "v_user_jdbc='airflow'\n",
    "v_pass_jdbc='airflow'"
   ]
  },
  {
   "cell_type": "markdown",
   "id": "65a62882",
   "metadata": {},
   "source": [
    "**Criando sessao e contexto**"
   ]
  },
  {
   "cell_type": "code",
   "execution_count": 3,
   "id": "ce28e957",
   "metadata": {},
   "outputs": [
    {
     "name": "stderr",
     "output_type": "stream",
     "text": [
      "WARNING: An illegal reflective access operation has occurred\n",
      "WARNING: Illegal reflective access by org.apache.spark.unsafe.Platform (file:/usr/local/spark-3.1.2-bin-hadoop3.2/jars/spark-unsafe_2.12-3.1.2.jar) to constructor java.nio.DirectByteBuffer(long,int)\n",
      "WARNING: Please consider reporting this to the maintainers of org.apache.spark.unsafe.Platform\n",
      "WARNING: Use --illegal-access=warn to enable warnings of further illegal reflective access operations\n",
      "WARNING: All illegal access operations will be denied in a future release\n",
      "22/12/28 00:27:41 WARN NativeCodeLoader: Unable to load native-hadoop library for your platform... using builtin-java classes where applicable\n",
      "Using Spark's default log4j profile: org/apache/spark/log4j-defaults.properties\n",
      "Setting default log level to \"WARN\".\n",
      "To adjust logging level use sc.setLogLevel(newLevel). For SparkR, use setLogLevel(newLevel).\n",
      "22/12/28 00:27:41 WARN Utils: Service 'SparkUI' could not bind on port 4040. Attempting port 4041.\n",
      "22/12/28 00:27:41 WARN Utils: Service 'SparkUI' could not bind on port 4041. Attempting port 4042.\n",
      "22/12/28 00:27:41 WARN Utils: Service 'SparkUI' could not bind on port 4042. Attempting port 4043.\n"
     ]
    }
   ],
   "source": [
    "spark = (SparkSession\n",
    "         .builder\n",
    "         .master('local')\n",
    "         .appName('load-postgres')\n",
    "         # Add postgres jar\n",
    "         .config('spark.driver.extraClassPath', v_caminho_jar_postgres)\n",
    "         .getOrCreate())\n",
    "sc = spark.sparkContext"
   ]
  },
  {
   "cell_type": "markdown",
   "id": "fc50ad2c",
   "metadata": {},
   "source": [
    "## Geração do arquivo Flat"
   ]
  },
  {
   "cell_type": "markdown",
   "id": "f24d18b9",
   "metadata": {},
   "source": [
    "O objetivo do exercício, é exercitar o processamento no Spark. A extração dos dados e relacionamentos entre os dados, serão processados no **Spark**.\n",
    "\n",
    "Por essa razão, os dados não serão relacionados e tratados no **postgres**."
   ]
  },
  {
   "cell_type": "code",
   "execution_count": 4,
   "id": "7c9289d7",
   "metadata": {},
   "outputs": [],
   "source": [
    "#Carregando dados no Dataframe\n",
    "df_associado_tgt = (\n",
    "    spark.read\n",
    "    .format('jdbc')\n",
    "    .option('url', v_url_jdbc)\n",
    "    .option('dbtable', 'target.associado')\n",
    "    .option('user', v_user_jdbc)\n",
    "    .option('password', v_pass_jdbc)\n",
    "    .load()\n",
    ")\n",
    "\n",
    "#Criando view do dataframe\n",
    "df_associado_tgt.createOrReplaceTempView('associado')"
   ]
  },
  {
   "cell_type": "code",
   "execution_count": 5,
   "id": "9189b9fa",
   "metadata": {},
   "outputs": [],
   "source": [
    "#Carregando dados no Dataframe\n",
    "df_conta_tgt = (\n",
    "    spark.read\n",
    "    .format('jdbc')\n",
    "    .option('url', v_url_jdbc)\n",
    "    .option('dbtable', 'target.conta')\n",
    "    .option('user', v_user_jdbc)\n",
    "    .option('password', v_pass_jdbc)\n",
    "    .load()\n",
    ")\n",
    "\n",
    "#Criando view do dataframe\n",
    "df_conta_tgt.createOrReplaceTempView('conta')"
   ]
  },
  {
   "cell_type": "code",
   "execution_count": 6,
   "id": "a8e366ac",
   "metadata": {},
   "outputs": [],
   "source": [
    "#Carregando dados no Dataframe\n",
    "df_cartao_tgt = (\n",
    "    spark.read\n",
    "    .format('jdbc')\n",
    "    .option('url', v_url_jdbc)\n",
    "    .option('dbtable', 'target.cartao')\n",
    "    .option('user', v_user_jdbc)\n",
    "    .option('password', v_pass_jdbc)\n",
    "    .load()\n",
    ")\n",
    "\n",
    "#Criando view do dataframe\n",
    "df_cartao_tgt.createOrReplaceTempView('cartao')"
   ]
  },
  {
   "cell_type": "code",
   "execution_count": 7,
   "id": "d2c93111",
   "metadata": {},
   "outputs": [],
   "source": [
    "#Carregando dados no Dataframe\n",
    "df_movimento_tgt = (\n",
    "    spark.read\n",
    "    .format('jdbc')\n",
    "    .option('url', v_url_jdbc)\n",
    "    .option('dbtable', 'target.movimento')\n",
    "    .option('user', v_user_jdbc)\n",
    "    .option('password', v_pass_jdbc)\n",
    "    .load()\n",
    ")\n",
    "\n",
    "#Criando view do dataframe\n",
    "df_movimento_tgt.createOrReplaceTempView('movimento')"
   ]
  },
  {
   "cell_type": "markdown",
   "id": "c69050d4",
   "metadata": {},
   "source": [
    "Obs: 1 - *Somente será trabalhado com associados válidos.*\n",
    "     2 - *Na estrutura de dados gerados, não foi repassado a coluna de data da criação do cartão, temos somente a data de criação da conta, por essa razão, será utilizada a data de criação da conta, como data de criação do cartão.*"
   ]
  },
  {
   "cell_type": "code",
   "execution_count": 8,
   "id": "e69ae25d",
   "metadata": {},
   "outputs": [],
   "source": [
    "df_flat_file=spark.sql('''\n",
    "    select\n",
    "        ass.nome as nome_associado,\n",
    "        ass.sobrenome as sobrenome_associado,\n",
    "        ass.idade as idade_associado,\n",
    "        mov.vlr_transacao as vlr_transacao_movimento,\n",
    "        mov.des_transacao as des_transacao_movimento,\n",
    "        mov.data_movimento as data_movimento,\n",
    "        car.num_cartao as numero_cartao,\n",
    "        car.nom_impresso as nome_impresso_cartao,\n",
    "        cco.data_criacao as data_criacao_cartao,\n",
    "        cco.tipo as tipo_conta,\n",
    "        cco.data_criacao as data_criacao_conta\n",
    "        \n",
    "    from associado ass\n",
    "    \n",
    "    left join cartao car\n",
    "    on car.id_associado=ass.id\n",
    "    \n",
    "    left join movimento mov\n",
    "    on mov.id_cartao=car.id\n",
    "    \n",
    "    left join conta cco\n",
    "    on cco.id_associado=ass.id\n",
    "    \n",
    "    where ass.id>0\n",
    "    \n",
    "''')"
   ]
  },
  {
   "cell_type": "code",
   "execution_count": 9,
   "id": "765b8188",
   "metadata": {},
   "outputs": [
    {
     "name": "stderr",
     "output_type": "stream",
     "text": [
      "                                                                                \r"
     ]
    },
    {
     "name": "stdout",
     "output_type": "stream",
     "text": [
      "+--------------+-------------------+---------------+-----------------------+-----------------------+--------------+----------------+--------------------+-------------------+--------------+------------------+\n",
      "|nome_associado|sobrenome_associado|idade_associado|vlr_transacao_movimento|des_transacao_movimento|data_movimento|   numero_cartao|nome_impresso_cartao|data_criacao_cartao|    tipo_conta|data_criacao_conta|\n",
      "+--------------+-------------------+---------------+-----------------------+-----------------------+--------------+----------------+--------------------+-------------------+--------------+------------------+\n",
      "|     Valentina|             Fogaça|             23|                 159.36|           Supermercado|    2018-12-13|4250002301488069|    VALENTINA FOGAÇA|         2018-08-14|Conta Corrente|        2018-08-14|\n",
      "|     Valentina|             Fogaça|             23|                 241.92|            Restaurante|    2020-06-06|4250002301488069|    VALENTINA FOGAÇA|         2018-08-14|Conta Corrente|        2018-08-14|\n",
      "|     Valentina|             Fogaça|             23|                 154.46|                  Roupa|    2020-06-16|4250002301488069|    VALENTINA FOGAÇA|         2018-08-14|Conta Corrente|        2018-08-14|\n",
      "|     Valentina|             Fogaça|             23|                 188.04|            Restaurante|    2020-09-03|4250002301488069|    VALENTINA FOGAÇA|         2018-08-14|Conta Corrente|        2018-08-14|\n",
      "|     Valentina|             Fogaça|             23|                 196.40|      Posto combustivel|    2019-08-24|4250002301488069|    VALENTINA FOGAÇA|         2018-08-14|Conta Corrente|        2018-08-14|\n",
      "|     Valentina|             Fogaça|             23|                  59.40|            Restaurante|    2020-03-26|4250002301488069|    VALENTINA FOGAÇA|         2018-08-14|Conta Corrente|        2018-08-14|\n",
      "|     Valentina|             Fogaça|             23|                 225.65|            Restaurante|    2020-12-02|4250002301488069|    VALENTINA FOGAÇA|         2018-08-14|Conta Corrente|        2018-08-14|\n",
      "|     Valentina|             Fogaça|             23|                   2.88|               Pet shop|    2018-12-20|4250002301488069|    VALENTINA FOGAÇA|         2018-08-14|Conta Corrente|        2018-08-14|\n",
      "|     Valentina|             Fogaça|             23|                  41.43|      Posto combustivel|    2020-02-13|4250002301488069|    VALENTINA FOGAÇA|         2018-08-14|Conta Corrente|        2018-08-14|\n",
      "|     Valentina|             Fogaça|             23|                 271.61|                  Roupa|    2020-04-23|4250002301488069|    VALENTINA FOGAÇA|         2018-08-14|Conta Corrente|        2018-08-14|\n",
      "|     Valentina|             Fogaça|             23|                  63.81|            Restaurante|    2019-02-02|4250002301488069|    VALENTINA FOGAÇA|         2018-08-14|Conta Corrente|        2018-08-14|\n",
      "|     Valentina|             Fogaça|             23|                 242.82|      Posto combustivel|    2020-12-24|4250002301488069|    VALENTINA FOGAÇA|         2018-08-14|Conta Corrente|        2018-08-14|\n",
      "|     Valentina|             Fogaça|             23|                  66.45|           Supermercado|    2020-02-14|4250002301488069|    VALENTINA FOGAÇA|         2018-08-14|Conta Corrente|        2018-08-14|\n",
      "|     Valentina|             Fogaça|             23|                 293.68|               Farmacia|    2021-05-25|4250002301488069|    VALENTINA FOGAÇA|         2018-08-14|Conta Corrente|        2018-08-14|\n",
      "|     Valentina|             Fogaça|             23|                 134.12|            Restaurante|    2021-06-07|4250002301488069|    VALENTINA FOGAÇA|         2018-08-14|Conta Corrente|        2018-08-14|\n",
      "|     Valentina|             Fogaça|             23|                  31.12|                  Roupa|    2018-12-10|4250002301488069|    VALENTINA FOGAÇA|         2018-08-14|Conta Corrente|        2018-08-14|\n",
      "|     Valentina|             Fogaça|             23|                 378.84|                  Roupa|    2019-11-11|4250002301488069|    VALENTINA FOGAÇA|         2018-08-14|Conta Corrente|        2018-08-14|\n",
      "|     Valentina|             Fogaça|             23|                 122.03|               Farmacia|    2021-09-04|4250002301488069|    VALENTINA FOGAÇA|         2018-08-14|Conta Corrente|        2018-08-14|\n",
      "|     Valentina|             Fogaça|             23|                 178.75|               Pet shop|    2018-12-11|4250002301488069|    VALENTINA FOGAÇA|         2018-08-14|Conta Corrente|        2018-08-14|\n",
      "|     Valentina|             Fogaça|             23|                 252.25|                  Roupa|    2019-11-25|4250002301488069|    VALENTINA FOGAÇA|         2018-08-14|Conta Corrente|        2018-08-14|\n",
      "+--------------+-------------------+---------------+-----------------------+-----------------------+--------------+----------------+--------------------+-------------------+--------------+------------------+\n",
      "only showing top 20 rows\n",
      "\n"
     ]
    }
   ],
   "source": [
    "df_flat_file.show()"
   ]
  },
  {
   "cell_type": "code",
   "execution_count": 10,
   "id": "c90d460e",
   "metadata": {},
   "outputs": [],
   "source": [
    "#Funcao para exportar um dataframe para arquivo csv\n",
    "def f_exporta_flat_file(df, arquivo_csv):\n",
    "    #Gera arquivo flat\n",
    "    df.coalesce(1).write.mode('overwrite').options(header='True', delimiter=';').csv(v_diretorio_export + '/flatfile')\n",
    "    \n",
    "    #Renomeia arquivo e move para a pasta export\n",
    "    for arquivo in os.listdir(v_diretorio_export + '/flatfile/'):\n",
    "        a_arquivo=arquivo.split('.')\n",
    "        if(len(a_arquivo)==2 and a_arquivo[1]=='csv'):\n",
    "            shutil.move(v_diretorio_export + '/flatfile/' + arquivo, v_diretorio_export + '/' + arquivo_csv)\n",
    "            print('Arquivo flat gerado: ' + v_diretorio_export + '/' + arquivo_csv)\n"
   ]
  },
  {
   "cell_type": "code",
   "execution_count": 11,
   "id": "46f4660c",
   "metadata": {},
   "outputs": [
    {
     "name": "stderr",
     "output_type": "stream",
     "text": [
      "[Stage 13:>                                                         (0 + 1) / 1]\r"
     ]
    },
    {
     "name": "stdout",
     "output_type": "stream",
     "text": [
      "Arquivo flat gerado: /home/jovyan/work/export/movimento_flat.csv\n"
     ]
    },
    {
     "name": "stderr",
     "output_type": "stream",
     "text": [
      "\r",
      "                                                                                \r"
     ]
    }
   ],
   "source": [
    "f_exporta_flat_file(df_flat_file, v_nome_arquivo)"
   ]
  }
 ],
 "metadata": {
  "kernelspec": {
   "display_name": "Python 3 (ipykernel)",
   "language": "python",
   "name": "python3"
  },
  "language_info": {
   "codemirror_mode": {
    "name": "ipython",
    "version": 3
   },
   "file_extension": ".py",
   "mimetype": "text/x-python",
   "name": "python",
   "nbconvert_exporter": "python",
   "pygments_lexer": "ipython3",
   "version": "3.9.7"
  }
 },
 "nbformat": 4,
 "nbformat_minor": 5
}
