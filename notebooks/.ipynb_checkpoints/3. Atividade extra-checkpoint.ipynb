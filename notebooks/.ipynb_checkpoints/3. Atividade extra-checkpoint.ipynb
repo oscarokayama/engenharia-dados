{
 "cells": [
  {
   "cell_type": "markdown",
   "id": "56bc2e94",
   "metadata": {},
   "source": [
    "## 3. Atividade extra"
   ]
  },
  {
   "cell_type": "markdown",
   "id": "196f7589",
   "metadata": {},
   "source": [
    "O objetivo da atividade extra, é exportar arquivos flat file, para análise de comportamento de compra, inadimplência e churn  dos associados."
   ]
  },
  {
   "cell_type": "markdown",
   "id": "0f6b029d",
   "metadata": {},
   "source": [
    "**Importação de bibliotecas**"
   ]
  },
  {
   "cell_type": "code",
   "execution_count": 14,
   "id": "5a49bf68",
   "metadata": {},
   "outputs": [],
   "source": [
    "import os\n",
    "import shutil\n",
    "from pyspark.sql import SparkSession\n",
    "from pyspark.sql.functions import from_unixtime, col, to_timestamp, coalesce\n",
    "from pyspark.sql.types import StringType, IntegerType, LongType, DecimalType, DateType"
   ]
  },
  {
   "cell_type": "markdown",
   "id": "f58c1ee0",
   "metadata": {},
   "source": [
    "**Variaveis do projeto**"
   ]
  },
  {
   "cell_type": "code",
   "execution_count": 15,
   "id": "5eb4fa0d",
   "metadata": {},
   "outputs": [],
   "source": [
    "#Variaveis de conexao com postgres\n",
    "v_caminho_jar_postgres='/home/jovyan/work/jars/postgresql-9.4.1207.jar'\n",
    "v_url_jdbc='jdbc:postgresql://postgres/projeto'\n",
    "v_user_jdbc='airflow'\n",
    "v_pass_jdbc='airflow'\n",
    "\n",
    "#Diretorio de export do arquivo de flatfile\n",
    "v_diretorio_export='/home/jovyan/work/export'"
   ]
  },
  {
   "cell_type": "markdown",
   "id": "65a62882",
   "metadata": {},
   "source": [
    "**Criando sessao e contexto**"
   ]
  },
  {
   "cell_type": "code",
   "execution_count": 16,
   "id": "ce28e957",
   "metadata": {},
   "outputs": [],
   "source": [
    "spark = (SparkSession\n",
    "         .builder\n",
    "         .master('local')\n",
    "         .appName('load-postgres')\n",
    "         # Add postgres jar\n",
    "         .config('spark.driver.extraClassPath', v_caminho_jar_postgres)\n",
    "         .getOrCreate())\n",
    "sc = spark.sparkContext"
   ]
  },
  {
   "cell_type": "code",
   "execution_count": 17,
   "id": "e0e7ce47",
   "metadata": {},
   "outputs": [],
   "source": [
    "#Funcao para exportar um dataframe para arquivo csv\n",
    "def f_exporta_flat_file(df, arquivo_csv):\n",
    "    #Gera arquivo flat\n",
    "    df.coalesce(1).write.mode('overwrite').options(header='True', delimiter=';').csv(v_diretorio_export + '/flatfile')\n",
    "    \n",
    "    #Renomeia arquivo e move para a pasta export\n",
    "    for arquivo in os.listdir(v_diretorio_export + '/flatfile/'):\n",
    "        a_arquivo=arquivo.split('.')\n",
    "        if(len(a_arquivo)==2 and a_arquivo[1]=='csv'):\n",
    "            shutil.move(v_diretorio_export + '/flatfile/' + arquivo, v_diretorio_export + '/' + arquivo_csv)\n",
    "            print('Arquivo flat gerado: ' + v_diretorio_export + '/' + arquivo_csv)"
   ]
  },
  {
   "cell_type": "code",
   "execution_count": 21,
   "id": "216576d1",
   "metadata": {},
   "outputs": [
    {
     "name": "stderr",
     "output_type": "stream",
     "text": [
      "\r",
      "[Stage 6:>                                                          (0 + 1) / 1]\r"
     ]
    },
    {
     "name": "stdout",
     "output_type": "stream",
     "text": [
      "Arquivo flat gerado: /home/jovyan/work/export/associado_compras_fatura_inad.csv\n"
     ]
    },
    {
     "name": "stderr",
     "output_type": "stream",
     "text": [
      "\r",
      "                                                                                \r"
     ]
    }
   ],
   "source": [
    "#Carregando dados no Dataframe\n",
    "df_flat_file = (\n",
    "    spark.read\n",
    "    .format('jdbc')\n",
    "    .option('url', v_url_jdbc)\n",
    "    .option('query', '''\n",
    "        select \n",
    "            ass.id as id_associado,\n",
    "            ass.nome,\n",
    "            ass.sobrenome,\n",
    "            ass.idade,\n",
    "            ass.email,\n",
    "            case when compras_inad.data_encerramento_conta is null then 'Sim' else 'Não' end as sit_associado,\n",
    "            case when coalesce(compras_inad.qtd_dias_atraso_pgto, 0)=0 then 'Não' else 'Sim' end as sit_inadimplente,\n",
    "            compras_inad.data_primeira_compra,\n",
    "            compras_inad.data_ultima_compra,\n",
    "            (compras_inad.data_ultima_compra - compras_inad.data_primeira_compra)/30::integer as qt_meses_compras,\n",
    "            compras_inad.data_encerramento_conta,\n",
    "            compras_inad.dia_ult_compra,\n",
    "            compras_inad.dia_ult_compra/30 as mes_ult_compra,\n",
    "            trim(replace(compras_inad.vlr_total_compras::varchar(100), '.', ',')) as vlr_total_compras,\n",
    "            compras_inad.qtd_compras,\n",
    "            trim(replace(compras_inad.vlr_medio_compras::varchar(100), '.', ',')) as vlr_medio_compras,\n",
    "            compras_inad.qtd_dias_atraso_pgto\n",
    "\n",
    "        from target.associado ass\n",
    "\n",
    "        left join (\n",
    "            select \n",
    "                car.id_associado,\n",
    "                min(mov.data_movimento) as data_primeira_compra,\n",
    "                max(mov.data_movimento) as data_ultima_compra,\n",
    "                enc.data_encerramento as data_encerramento_conta,\n",
    "                coalesce(enc.data_encerramento, current_date) - max(mov.data_movimento) as dia_ult_compra,\n",
    "                sum(mov.vlr_transacao) as vlr_total_compras,\n",
    "                count(distinct mov.id) as qtd_compras,\n",
    "                avg(mov.vlr_transacao)::decimal(10,2) as vlr_medio_compras,\n",
    "                max(fat.qtd_dias_atraso_pgto) as qtd_dias_atraso_pgto\n",
    "\n",
    "            from target.movimento mov\n",
    "\n",
    "            inner join target.cartao car\n",
    "            on mov.id_cartao=car.id\n",
    "\n",
    "            inner join target.encerramento_conta enc\n",
    "            on enc.id=car.id_conta\n",
    "\n",
    "            inner join (\n",
    "                select\n",
    "                    id_cartao,\n",
    "                    max(qtd_dias_atraso_pgto) as qtd_dias_atraso_pgto\n",
    "                from target.fatura\n",
    "\n",
    "                group by 1\n",
    "            ) fat\n",
    "            on fat.id_cartao=car.id\n",
    "\n",
    "            group by car.id_associado, enc.data_encerramento \n",
    "        ) as compras_inad\n",
    "        on compras_inad.id_associado=ass.id\n",
    "\n",
    "        where ass.id>0\n",
    "    ''')\n",
    "    .option('user', v_user_jdbc)\n",
    "    .option('password', v_pass_jdbc)\n",
    "    .load()\n",
    ")\n",
    "\n",
    "#Gerando flat file\n",
    "f_exporta_flat_file(df_flat_file, 'associado_compras_fatura_inad.csv')"
   ]
  },
  {
   "cell_type": "code",
   "execution_count": 22,
   "id": "661f9b29",
   "metadata": {},
   "outputs": [
    {
     "name": "stderr",
     "output_type": "stream",
     "text": [
      "\r",
      "[Stage 7:>                                                          (0 + 1) / 1]\r"
     ]
    },
    {
     "name": "stdout",
     "output_type": "stream",
     "text": [
      "Arquivo flat gerado: /home/jovyan/work/export/associado_comportamento_compras.csv\n"
     ]
    },
    {
     "name": "stderr",
     "output_type": "stream",
     "text": [
      "\r",
      "                                                                                \r"
     ]
    }
   ],
   "source": [
    "#Carregando dados no Dataframe\n",
    "df_flat_file = (\n",
    "    spark.read\n",
    "    .format('jdbc')\n",
    "    .option('url', v_url_jdbc)\n",
    "    .option('query', '''\n",
    "        select \n",
    "            ass.id as id_associado,\n",
    "            ass.nome,\n",
    "            ass.sobrenome,\n",
    "            ass.idade,\n",
    "            ass.email,\n",
    "            compras_inad.des_transacao,\n",
    "            trim(replace(compras_inad.vlr_total_compras::varchar(100), '.', ',')) as vlr_total_compras,\n",
    "            compras_inad.qtd_compras,\n",
    "            trim(replace(compras_inad.vlr_medio_compras::varchar(100), '.', ',')) as vlr_medio_compras\n",
    "\n",
    "        from target.associado ass\n",
    "\n",
    "        left join (\n",
    "            select \n",
    "                car.id_associado,\n",
    "                mov.des_transacao,\n",
    "                sum(mov.vlr_transacao) as vlr_total_compras,\n",
    "                count(distinct mov.id) as qtd_compras,\n",
    "                avg(mov.vlr_transacao)::decimal(10,2) as vlr_medio_compras\n",
    "            from target.movimento mov\n",
    "\n",
    "            inner join target.cartao car\n",
    "            on mov.id_cartao=car.id\n",
    "\n",
    "            group by 1, 2\n",
    "        ) as compras_inad\n",
    "        on compras_inad.id_associado=ass.id\n",
    "\n",
    "        where ass.id>0\n",
    "    ''')\n",
    "    .option('user', v_user_jdbc)\n",
    "    .option('password', v_pass_jdbc)\n",
    "    .load()\n",
    ")\n",
    "\n",
    "#Gerando flat file\n",
    "f_exporta_flat_file(df_flat_file, 'associado_comportamento_compras.csv')"
   ]
  },
  {
   "cell_type": "code",
   "execution_count": null,
   "id": "8cc94220",
   "metadata": {},
   "outputs": [],
   "source": []
  }
 ],
 "metadata": {
  "kernelspec": {
   "display_name": "Python 3 (ipykernel)",
   "language": "python",
   "name": "python3"
  },
  "language_info": {
   "codemirror_mode": {
    "name": "ipython",
    "version": 3
   },
   "file_extension": ".py",
   "mimetype": "text/x-python",
   "name": "python",
   "nbconvert_exporter": "python",
   "pygments_lexer": "ipython3",
   "version": "3.9.7"
  }
 },
 "nbformat": 4,
 "nbformat_minor": 5
}
